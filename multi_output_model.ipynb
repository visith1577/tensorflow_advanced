{
  "nbformat": 4,
  "nbformat_minor": 0,
  "metadata": {
    "colab": {
      "name": "multi_output_model.ipynb",
      "provenance": [],
      "authorship_tag": "ABX9TyOOYhVJPHnewNwW5hYG+Wee",
      "include_colab_link": true
    },
    "kernelspec": {
      "name": "python3",
      "display_name": "Python 3"
    },
    "language_info": {
      "name": "python"
    }
  },
  "cells": [
    {
      "cell_type": "markdown",
      "metadata": {
        "id": "view-in-github",
        "colab_type": "text"
      },
      "source": [
        "<a href=\"https://colab.research.google.com/github/visith1577/tensorflow_advanced/blob/main/multi_output_model.ipynb\" target=\"_parent\"><img src=\"https://colab.research.google.com/assets/colab-badge.svg\" alt=\"Open In Colab\"/></a>"
      ]
    },
    {
      "cell_type": "code",
      "metadata": {
        "id": "a_xtngYI4Ha_"
      },
      "source": [
        "import tensorflow as tf\n",
        "from tensorflow.keras.models import Model\n",
        "from tensorflow.keras.layers import Flatten, Dense , Input  "
      ],
      "execution_count": 2,
      "outputs": []
    },
    {
      "cell_type": "code",
      "metadata": {
        "id": "vBKuc5YKDAcJ"
      },
      "source": [
        "mnist = tf.keras.datasets.mnist\n",
        "((train_images, train_labels), (test_images, test_labels)) = mnist.load_data()"
      ],
      "execution_count": 7,
      "outputs": []
    },
    {
      "cell_type": "code",
      "metadata": {
        "id": "jeTcrfL7CZyL"
      },
      "source": [
        "input_layer = Input( shape = (28, 28)) \n",
        "\n",
        "flatten = Flatten()(input_layer)\n",
        "layer_1 = Dense(64, activation= 'relu', name ='dense_1')(flatten) \n",
        "layer_2 = Dense(32, activation='tanh', name = 'dense_2')(layer_1) \n",
        "\n",
        "\n",
        "y_1_output = Dense(1, activation='sigmoid', name=\"out_1\")(layer_2)\n",
        "\n",
        "\n",
        "layer_3 = Dense( 128, activation='relu')(layer_2) \n",
        "\n",
        "y_2_output = Dense(1, activation='sigmoid', name=\"out_2\")(layer_3)\n",
        "\n",
        "model = Model(inputs = input_layer, outputs = [y_1_output, y_2_output])\n"
      ],
      "execution_count": 20,
      "outputs": []
    },
    {
      "cell_type": "code",
      "metadata": {
        "colab": {
          "base_uri": "https://localhost:8080/"
        },
        "id": "x-GY2CRPCxQc",
        "outputId": "d20c2acb-c0d5-44da-fa63-092b1f8eb526"
      },
      "source": [
        "model.summary()"
      ],
      "execution_count": 21,
      "outputs": [
        {
          "output_type": "stream",
          "name": "stdout",
          "text": [
            "Model: \"model_3\"\n",
            "__________________________________________________________________________________________________\n",
            "Layer (type)                    Output Shape         Param #     Connected to                     \n",
            "==================================================================================================\n",
            "input_9 (InputLayer)            [(None, 28, 28)]     0                                            \n",
            "__________________________________________________________________________________________________\n",
            "flatten_6 (Flatten)             (None, 784)          0           input_9[0][0]                    \n",
            "__________________________________________________________________________________________________\n",
            "dense_1 (Dense)                 (None, 64)           50240       flatten_6[0][0]                  \n",
            "__________________________________________________________________________________________________\n",
            "dense_2 (Dense)                 (None, 32)           2080        dense_1[0][0]                    \n",
            "__________________________________________________________________________________________________\n",
            "dense_7 (Dense)                 (None, 128)          4224        dense_2[0][0]                    \n",
            "__________________________________________________________________________________________________\n",
            "out_1 (Dense)                   (None, 1)            33          dense_2[0][0]                    \n",
            "__________________________________________________________________________________________________\n",
            "out_2 (Dense)                   (None, 1)            129         dense_7[0][0]                    \n",
            "==================================================================================================\n",
            "Total params: 56,706\n",
            "Trainable params: 56,706\n",
            "Non-trainable params: 0\n",
            "__________________________________________________________________________________________________\n"
          ]
        }
      ]
    },
    {
      "cell_type": "code",
      "metadata": {
        "id": "UYv9yl1OECS8"
      },
      "source": [
        "model.compile(loss={\n",
        "    \"out_1\": \"mse\",\n",
        "    \"out_2\": \"mae\"\n",
        "},\n",
        "metrics = { 'out_1' : tf.keras.metrics.RootMeanSquaredError() ,\n",
        "                            'out_2' : tf.keras.metrics.RootMeanSquaredError() \n",
        "                         }\n",
        ")"
      ],
      "execution_count": 22,
      "outputs": []
    },
    {
      "cell_type": "code",
      "metadata": {
        "id": "Ch5YmJQBEVZl"
      },
      "source": [
        "train_images = train_images/255.0\n",
        "test_images = test_images/255.0"
      ],
      "execution_count": 23,
      "outputs": []
    },
    {
      "cell_type": "code",
      "metadata": {
        "colab": {
          "base_uri": "https://localhost:8080/"
        },
        "id": "trOWiCecEl1Q",
        "outputId": "5551d20b-ac3f-47eb-8514-7de2b67a6d80"
      },
      "source": [
        "model.fit(train_images, train_labels, epochs=10, validation_data=(test_images, test_labels))"
      ],
      "execution_count": 24,
      "outputs": [
        {
          "output_type": "stream",
          "name": "stdout",
          "text": [
            "Epoch 1/10\n",
            "1875/1875 [==============================] - 5s 2ms/step - loss: 23.9990 - out_1_loss: 20.3439 - out_2_loss: 3.6552 - out_1_root_mean_squared_error: 4.5104 - out_2_root_mean_squared_error: 4.5067 - val_loss: 23.8816 - val_out_1_loss: 20.2422 - val_out_2_loss: 3.6394 - val_out_1_root_mean_squared_error: 4.4991 - val_out_2_root_mean_squared_error: 4.4991\n",
            "Epoch 2/10\n",
            "1875/1875 [==============================] - 4s 2ms/step - loss: 23.9288 - out_1_loss: 20.2774 - out_2_loss: 3.6514 - out_1_root_mean_squared_error: 4.5030 - out_2_root_mean_squared_error: 4.5030 - val_loss: 23.8816 - val_out_1_loss: 20.2422 - val_out_2_loss: 3.6394 - val_out_1_root_mean_squared_error: 4.4991 - val_out_2_root_mean_squared_error: 4.4991\n",
            "Epoch 3/10\n",
            "1875/1875 [==============================] - 4s 2ms/step - loss: 23.9288 - out_1_loss: 20.2774 - out_2_loss: 3.6514 - out_1_root_mean_squared_error: 4.5030 - out_2_root_mean_squared_error: 4.5030 - val_loss: 23.8816 - val_out_1_loss: 20.2422 - val_out_2_loss: 3.6394 - val_out_1_root_mean_squared_error: 4.4991 - val_out_2_root_mean_squared_error: 4.4991\n",
            "Epoch 4/10\n",
            "1875/1875 [==============================] - 4s 2ms/step - loss: 23.9288 - out_1_loss: 20.2774 - out_2_loss: 3.6514 - out_1_root_mean_squared_error: 4.5030 - out_2_root_mean_squared_error: 4.5030 - val_loss: 23.8816 - val_out_1_loss: 20.2422 - val_out_2_loss: 3.6394 - val_out_1_root_mean_squared_error: 4.4991 - val_out_2_root_mean_squared_error: 4.4991\n",
            "Epoch 5/10\n",
            "1875/1875 [==============================] - 4s 2ms/step - loss: 23.9288 - out_1_loss: 20.2774 - out_2_loss: 3.6514 - out_1_root_mean_squared_error: 4.5030 - out_2_root_mean_squared_error: 4.5030 - val_loss: 23.8816 - val_out_1_loss: 20.2422 - val_out_2_loss: 3.6394 - val_out_1_root_mean_squared_error: 4.4991 - val_out_2_root_mean_squared_error: 4.4991\n",
            "Epoch 6/10\n",
            "1875/1875 [==============================] - 4s 2ms/step - loss: 23.9288 - out_1_loss: 20.2774 - out_2_loss: 3.6514 - out_1_root_mean_squared_error: 4.5030 - out_2_root_mean_squared_error: 4.5030 - val_loss: 23.8816 - val_out_1_loss: 20.2422 - val_out_2_loss: 3.6394 - val_out_1_root_mean_squared_error: 4.4991 - val_out_2_root_mean_squared_error: 4.4991\n",
            "Epoch 7/10\n",
            "1875/1875 [==============================] - 4s 2ms/step - loss: 23.9288 - out_1_loss: 20.2774 - out_2_loss: 3.6514 - out_1_root_mean_squared_error: 4.5030 - out_2_root_mean_squared_error: 4.5030 - val_loss: 23.8816 - val_out_1_loss: 20.2422 - val_out_2_loss: 3.6394 - val_out_1_root_mean_squared_error: 4.4991 - val_out_2_root_mean_squared_error: 4.4991\n",
            "Epoch 8/10\n",
            "1875/1875 [==============================] - 4s 2ms/step - loss: 23.9288 - out_1_loss: 20.2774 - out_2_loss: 3.6514 - out_1_root_mean_squared_error: 4.5030 - out_2_root_mean_squared_error: 4.5030 - val_loss: 23.8816 - val_out_1_loss: 20.2422 - val_out_2_loss: 3.6394 - val_out_1_root_mean_squared_error: 4.4991 - val_out_2_root_mean_squared_error: 4.4991\n",
            "Epoch 9/10\n",
            "1875/1875 [==============================] - 4s 2ms/step - loss: 23.9288 - out_1_loss: 20.2774 - out_2_loss: 3.6514 - out_1_root_mean_squared_error: 4.5030 - out_2_root_mean_squared_error: 4.5030 - val_loss: 23.8816 - val_out_1_loss: 20.2422 - val_out_2_loss: 3.6394 - val_out_1_root_mean_squared_error: 4.4991 - val_out_2_root_mean_squared_error: 4.4991\n",
            "Epoch 10/10\n",
            "1875/1875 [==============================] - 4s 2ms/step - loss: 23.9288 - out_1_loss: 20.2774 - out_2_loss: 3.6514 - out_1_root_mean_squared_error: 4.5030 - out_2_root_mean_squared_error: 4.5030 - val_loss: 23.8816 - val_out_1_loss: 20.2422 - val_out_2_loss: 3.6394 - val_out_1_root_mean_squared_error: 4.4991 - val_out_2_root_mean_squared_error: 4.4991\n"
          ]
        },
        {
          "output_type": "execute_result",
          "data": {
            "text/plain": [
              "<keras.callbacks.History at 0x7f74ed62b710>"
            ]
          },
          "metadata": {},
          "execution_count": 24
        }
      ]
    },
    {
      "cell_type": "code",
      "metadata": {
        "id": "jcNE-RaTEx6z"
      },
      "source": [
        ""
      ],
      "execution_count": null,
      "outputs": []
    }
  ]
}