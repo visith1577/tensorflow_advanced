{
  "nbformat": 4,
  "nbformat_minor": 0,
  "metadata": {
    "colab": {
      "name": "losses.ipynb",
      "provenance": [],
      "authorship_tag": "ABX9TyMmP5y0W628oBOpDAsIEuEE",
      "include_colab_link": true
    },
    "kernelspec": {
      "name": "python3",
      "display_name": "Python 3"
    },
    "language_info": {
      "name": "python"
    }
  },
  "cells": [
    {
      "cell_type": "markdown",
      "metadata": {
        "id": "view-in-github",
        "colab_type": "text"
      },
      "source": [
        "<a href=\"https://colab.research.google.com/github/visith1577/tensorflow_advanced/blob/main/losses.ipynb\" target=\"_parent\"><img src=\"https://colab.research.google.com/assets/colab-badge.svg\" alt=\"Open In Colab\"/></a>"
      ]
    },
    {
      "cell_type": "code",
      "metadata": {
        "id": "ZLc3gvmFdGi_"
      },
      "source": [
        "import tensorflow as tf\n",
        "import tensorflow.keras.backend as K"
      ],
      "execution_count": 1,
      "outputs": []
    },
    {
      "cell_type": "code",
      "metadata": {
        "id": "BmeOVJ4Dde51"
      },
      "source": [
        "def my_huber_loss(y_true, y_pred):\n",
        "  threshold=1\n",
        "  error = y_pred - y_true\n",
        "  is_small_error = tf.abs(error) <= threshold\n",
        "  small_error_loss = tf.square(error)/2\n",
        "  big_error_loss = threshold * (tf.abs(error) - 0.5*threshold)\n",
        "  return tf.where(is_small_error, small_error_loss, big_error_loss)"
      ],
      "execution_count": 2,
      "outputs": []
    },
    {
      "cell_type": "code",
      "metadata": {
        "id": "T0JclIn8eTIc"
      },
      "source": [
        "model = tf.keras.models.Sequential([ tf.keras.layers.Dense(20, activation='relu')])\n",
        "\n",
        "model.compile(optimizer = 'sgd', loss = my_huber_loss)"
      ],
      "execution_count": 3,
      "outputs": []
    },
    {
      "cell_type": "code",
      "metadata": {
        "id": "9OTE9eQTeWOz"
      },
      "source": [
        "def my_huber_loss_modified(threshold=1):\n",
        "  def my_huber_loss(y_true, y_pred):\n",
        "    error = y_pred - y_true\n",
        "    is_small_error = tf.abs(error) <= threshold\n",
        "    small_error_loss = tf.square(error)/2\n",
        "    big_error_loss = threshold * (tf.abs(error) - 0.5*threshold)\n",
        "    return tf.where(is_small_error, small_error_loss, big_error_loss)\n",
        "\n",
        "  return my_huber_loss  "
      ],
      "execution_count": 4,
      "outputs": []
    },
    {
      "cell_type": "code",
      "metadata": {
        "id": "RdXykLYRgSzg"
      },
      "source": [
        "model = tf.keras.Sequential([tf.keras.layers.Dense(units=1, input_shape=[1])])\n",
        "model.compile(optimizer='sgd', loss=my_huber_loss_modified(threshold=1.2))"
      ],
      "execution_count": 7,
      "outputs": []
    },
    {
      "cell_type": "code",
      "metadata": {
        "id": "I_nyCyePhyyo"
      },
      "source": [
        "from tensorflow.keras.losses import Loss "
      ],
      "execution_count": 8,
      "outputs": []
    },
    {
      "cell_type": "code",
      "metadata": {
        "id": "5Zzqj4KpgaH1"
      },
      "source": [
        "class MyHuberLoss(Loss):\n",
        "  threshold=1\n",
        "  def __init__(self, threshold):\n",
        "    super().__init__()\n",
        "    self.threshold = threshold\n",
        "  \n",
        "  def call(self, y_true, y_pred):\n",
        "    error = y_true - y_pred\n",
        "    is_small_error = tf.abs(error) <= self.threshold\n",
        "    small_error_loss = tf.square(error) / 2\n",
        "    big_error_loss = self.threshold * (tf.abs(error) - (0.5 * self.threshold))\n",
        "    return tf.where(is_small_error, small_error_loss, big_error_loss)"
      ],
      "execution_count": 9,
      "outputs": []
    },
    {
      "cell_type": "code",
      "metadata": {
        "id": "CeLw3rKkiV8x"
      },
      "source": [
        "model = tf.keras.Sequential([tf.keras.layers.Dense(units=1, input_shape=[1])])\n",
        "model.compile(optimizer='sgd', loss=MyHuberLoss(threshold=1.02)) "
      ],
      "execution_count": 11,
      "outputs": []
    },
    {
      "cell_type": "code",
      "metadata": {
        "id": "5uLFwB86iZ1W"
      },
      "source": [
        ""
      ],
      "execution_count": null,
      "outputs": []
    }
  ]
}