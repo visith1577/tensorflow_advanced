{
  "nbformat": 4,
  "nbformat_minor": 0,
  "metadata": {
    "colab": {
      "name": "autograph_horse_OR_human.ipynb",
      "provenance": [],
      "authorship_tag": "ABX9TyP+8xBnlGOqoxu6eMukO5eP",
      "include_colab_link": true
    },
    "kernelspec": {
      "name": "python3",
      "display_name": "Python 3"
    },
    "language_info": {
      "name": "python"
    },
    "widgets": {
      "application/vnd.jupyter.widget-state+json": {
        "464af57f91ee4c4abe365381468e8c83": {
          "model_module": "@jupyter-widgets/controls",
          "model_name": "HBoxModel",
          "model_module_version": "1.5.0",
          "state": {
            "_view_name": "HBoxView",
            "_dom_classes": [],
            "_model_name": "HBoxModel",
            "_view_module": "@jupyter-widgets/controls",
            "_model_module_version": "1.5.0",
            "_view_count": null,
            "_view_module_version": "1.5.0",
            "box_style": "",
            "layout": "IPY_MODEL_ef55850a949d40bdb1fe76c75c86814a",
            "_model_module": "@jupyter-widgets/controls",
            "children": [
              "IPY_MODEL_ba51a2cbda34444080119c290717a0a8",
              "IPY_MODEL_c5278488485c4519b494492ab96d69e6",
              "IPY_MODEL_2e1fab00530846d9affd43a938b02abc"
            ]
          }
        },
        "ef55850a949d40bdb1fe76c75c86814a": {
          "model_module": "@jupyter-widgets/base",
          "model_name": "LayoutModel",
          "model_module_version": "1.2.0",
          "state": {
            "_view_name": "LayoutView",
            "grid_template_rows": null,
            "right": null,
            "justify_content": null,
            "_view_module": "@jupyter-widgets/base",
            "overflow": null,
            "_model_module_version": "1.2.0",
            "_view_count": null,
            "flex_flow": null,
            "width": null,
            "min_width": null,
            "border": null,
            "align_items": null,
            "bottom": null,
            "_model_module": "@jupyter-widgets/base",
            "top": null,
            "grid_column": null,
            "overflow_y": null,
            "overflow_x": null,
            "grid_auto_flow": null,
            "grid_area": null,
            "grid_template_columns": null,
            "flex": null,
            "_model_name": "LayoutModel",
            "justify_items": null,
            "grid_row": null,
            "max_height": null,
            "align_content": null,
            "visibility": null,
            "align_self": null,
            "height": null,
            "min_height": null,
            "padding": null,
            "grid_auto_rows": null,
            "grid_gap": null,
            "max_width": null,
            "order": null,
            "_view_module_version": "1.2.0",
            "grid_template_areas": null,
            "object_position": null,
            "object_fit": null,
            "grid_auto_columns": null,
            "margin": null,
            "display": null,
            "left": null
          }
        },
        "ba51a2cbda34444080119c290717a0a8": {
          "model_module": "@jupyter-widgets/controls",
          "model_name": "HTMLModel",
          "model_module_version": "1.5.0",
          "state": {
            "_view_name": "HTMLView",
            "style": "IPY_MODEL_3105348260954c1db56c1eb36dc3d5ea",
            "_dom_classes": [],
            "description": "",
            "_model_name": "HTMLModel",
            "placeholder": "​",
            "_view_module": "@jupyter-widgets/controls",
            "_model_module_version": "1.5.0",
            "value": "Dl Completed...: 100%",
            "_view_count": null,
            "_view_module_version": "1.5.0",
            "description_tooltip": null,
            "_model_module": "@jupyter-widgets/controls",
            "layout": "IPY_MODEL_0b7b23bcd5bd4cbaac68c9e40f6f158a"
          }
        },
        "c5278488485c4519b494492ab96d69e6": {
          "model_module": "@jupyter-widgets/controls",
          "model_name": "FloatProgressModel",
          "model_module_version": "1.5.0",
          "state": {
            "_view_name": "ProgressView",
            "style": "IPY_MODEL_8c9e94d97eb04c6295b5e15cc8bdad96",
            "_dom_classes": [],
            "description": "",
            "_model_name": "FloatProgressModel",
            "bar_style": "success",
            "max": 1,
            "_view_module": "@jupyter-widgets/controls",
            "_model_module_version": "1.5.0",
            "value": 1,
            "_view_count": null,
            "_view_module_version": "1.5.0",
            "orientation": "horizontal",
            "min": 0,
            "description_tooltip": null,
            "_model_module": "@jupyter-widgets/controls",
            "layout": "IPY_MODEL_65238225c1504a918ac0509ce001997e"
          }
        },
        "2e1fab00530846d9affd43a938b02abc": {
          "model_module": "@jupyter-widgets/controls",
          "model_name": "HTMLModel",
          "model_module_version": "1.5.0",
          "state": {
            "_view_name": "HTMLView",
            "style": "IPY_MODEL_01d1d94e66ef449ca68852c90a2704d1",
            "_dom_classes": [],
            "description": "",
            "_model_name": "HTMLModel",
            "placeholder": "​",
            "_view_module": "@jupyter-widgets/controls",
            "_model_module_version": "1.5.0",
            "value": " 2/2 [00:03&lt;00:00,  1.92s/ url]",
            "_view_count": null,
            "_view_module_version": "1.5.0",
            "description_tooltip": null,
            "_model_module": "@jupyter-widgets/controls",
            "layout": "IPY_MODEL_7698974184b24003967a864f709ccdc9"
          }
        },
        "3105348260954c1db56c1eb36dc3d5ea": {
          "model_module": "@jupyter-widgets/controls",
          "model_name": "DescriptionStyleModel",
          "model_module_version": "1.5.0",
          "state": {
            "_view_name": "StyleView",
            "_model_name": "DescriptionStyleModel",
            "description_width": "",
            "_view_module": "@jupyter-widgets/base",
            "_model_module_version": "1.5.0",
            "_view_count": null,
            "_view_module_version": "1.2.0",
            "_model_module": "@jupyter-widgets/controls"
          }
        },
        "0b7b23bcd5bd4cbaac68c9e40f6f158a": {
          "model_module": "@jupyter-widgets/base",
          "model_name": "LayoutModel",
          "model_module_version": "1.2.0",
          "state": {
            "_view_name": "LayoutView",
            "grid_template_rows": null,
            "right": null,
            "justify_content": null,
            "_view_module": "@jupyter-widgets/base",
            "overflow": null,
            "_model_module_version": "1.2.0",
            "_view_count": null,
            "flex_flow": null,
            "width": null,
            "min_width": null,
            "border": null,
            "align_items": null,
            "bottom": null,
            "_model_module": "@jupyter-widgets/base",
            "top": null,
            "grid_column": null,
            "overflow_y": null,
            "overflow_x": null,
            "grid_auto_flow": null,
            "grid_area": null,
            "grid_template_columns": null,
            "flex": null,
            "_model_name": "LayoutModel",
            "justify_items": null,
            "grid_row": null,
            "max_height": null,
            "align_content": null,
            "visibility": null,
            "align_self": null,
            "height": null,
            "min_height": null,
            "padding": null,
            "grid_auto_rows": null,
            "grid_gap": null,
            "max_width": null,
            "order": null,
            "_view_module_version": "1.2.0",
            "grid_template_areas": null,
            "object_position": null,
            "object_fit": null,
            "grid_auto_columns": null,
            "margin": null,
            "display": null,
            "left": null
          }
        },
        "8c9e94d97eb04c6295b5e15cc8bdad96": {
          "model_module": "@jupyter-widgets/controls",
          "model_name": "ProgressStyleModel",
          "model_module_version": "1.5.0",
          "state": {
            "_view_name": "StyleView",
            "_model_name": "ProgressStyleModel",
            "description_width": "",
            "_view_module": "@jupyter-widgets/base",
            "_model_module_version": "1.5.0",
            "_view_count": null,
            "_view_module_version": "1.2.0",
            "bar_color": null,
            "_model_module": "@jupyter-widgets/controls"
          }
        },
        "65238225c1504a918ac0509ce001997e": {
          "model_module": "@jupyter-widgets/base",
          "model_name": "LayoutModel",
          "model_module_version": "1.2.0",
          "state": {
            "_view_name": "LayoutView",
            "grid_template_rows": null,
            "right": null,
            "justify_content": null,
            "_view_module": "@jupyter-widgets/base",
            "overflow": null,
            "_model_module_version": "1.2.0",
            "_view_count": null,
            "flex_flow": null,
            "width": "20px",
            "min_width": null,
            "border": null,
            "align_items": null,
            "bottom": null,
            "_model_module": "@jupyter-widgets/base",
            "top": null,
            "grid_column": null,
            "overflow_y": null,
            "overflow_x": null,
            "grid_auto_flow": null,
            "grid_area": null,
            "grid_template_columns": null,
            "flex": null,
            "_model_name": "LayoutModel",
            "justify_items": null,
            "grid_row": null,
            "max_height": null,
            "align_content": null,
            "visibility": null,
            "align_self": null,
            "height": null,
            "min_height": null,
            "padding": null,
            "grid_auto_rows": null,
            "grid_gap": null,
            "max_width": null,
            "order": null,
            "_view_module_version": "1.2.0",
            "grid_template_areas": null,
            "object_position": null,
            "object_fit": null,
            "grid_auto_columns": null,
            "margin": null,
            "display": null,
            "left": null
          }
        },
        "01d1d94e66ef449ca68852c90a2704d1": {
          "model_module": "@jupyter-widgets/controls",
          "model_name": "DescriptionStyleModel",
          "model_module_version": "1.5.0",
          "state": {
            "_view_name": "StyleView",
            "_model_name": "DescriptionStyleModel",
            "description_width": "",
            "_view_module": "@jupyter-widgets/base",
            "_model_module_version": "1.5.0",
            "_view_count": null,
            "_view_module_version": "1.2.0",
            "_model_module": "@jupyter-widgets/controls"
          }
        },
        "7698974184b24003967a864f709ccdc9": {
          "model_module": "@jupyter-widgets/base",
          "model_name": "LayoutModel",
          "model_module_version": "1.2.0",
          "state": {
            "_view_name": "LayoutView",
            "grid_template_rows": null,
            "right": null,
            "justify_content": null,
            "_view_module": "@jupyter-widgets/base",
            "overflow": null,
            "_model_module_version": "1.2.0",
            "_view_count": null,
            "flex_flow": null,
            "width": null,
            "min_width": null,
            "border": null,
            "align_items": null,
            "bottom": null,
            "_model_module": "@jupyter-widgets/base",
            "top": null,
            "grid_column": null,
            "overflow_y": null,
            "overflow_x": null,
            "grid_auto_flow": null,
            "grid_area": null,
            "grid_template_columns": null,
            "flex": null,
            "_model_name": "LayoutModel",
            "justify_items": null,
            "grid_row": null,
            "max_height": null,
            "align_content": null,
            "visibility": null,
            "align_self": null,
            "height": null,
            "min_height": null,
            "padding": null,
            "grid_auto_rows": null,
            "grid_gap": null,
            "max_width": null,
            "order": null,
            "_view_module_version": "1.2.0",
            "grid_template_areas": null,
            "object_position": null,
            "object_fit": null,
            "grid_auto_columns": null,
            "margin": null,
            "display": null,
            "left": null
          }
        },
        "5fd94b6f3bc14f09aec243ccf09b52db": {
          "model_module": "@jupyter-widgets/controls",
          "model_name": "HBoxModel",
          "model_module_version": "1.5.0",
          "state": {
            "_view_name": "HBoxView",
            "_dom_classes": [],
            "_model_name": "HBoxModel",
            "_view_module": "@jupyter-widgets/controls",
            "_model_module_version": "1.5.0",
            "_view_count": null,
            "_view_module_version": "1.5.0",
            "box_style": "",
            "layout": "IPY_MODEL_06a4b5d0726d49139d2a24dac3004944",
            "_model_module": "@jupyter-widgets/controls",
            "children": [
              "IPY_MODEL_8c3136f7a5dc49ea8768347ab02e58f0",
              "IPY_MODEL_d2b91bc498864b18a546fd39ae89c850",
              "IPY_MODEL_c6fba0e18b964565b77bd427fd6027fe"
            ]
          }
        },
        "06a4b5d0726d49139d2a24dac3004944": {
          "model_module": "@jupyter-widgets/base",
          "model_name": "LayoutModel",
          "model_module_version": "1.2.0",
          "state": {
            "_view_name": "LayoutView",
            "grid_template_rows": null,
            "right": null,
            "justify_content": null,
            "_view_module": "@jupyter-widgets/base",
            "overflow": null,
            "_model_module_version": "1.2.0",
            "_view_count": null,
            "flex_flow": null,
            "width": null,
            "min_width": null,
            "border": null,
            "align_items": null,
            "bottom": null,
            "_model_module": "@jupyter-widgets/base",
            "top": null,
            "grid_column": null,
            "overflow_y": null,
            "overflow_x": null,
            "grid_auto_flow": null,
            "grid_area": null,
            "grid_template_columns": null,
            "flex": null,
            "_model_name": "LayoutModel",
            "justify_items": null,
            "grid_row": null,
            "max_height": null,
            "align_content": null,
            "visibility": null,
            "align_self": null,
            "height": null,
            "min_height": null,
            "padding": null,
            "grid_auto_rows": null,
            "grid_gap": null,
            "max_width": null,
            "order": null,
            "_view_module_version": "1.2.0",
            "grid_template_areas": null,
            "object_position": null,
            "object_fit": null,
            "grid_auto_columns": null,
            "margin": null,
            "display": null,
            "left": null
          }
        },
        "8c3136f7a5dc49ea8768347ab02e58f0": {
          "model_module": "@jupyter-widgets/controls",
          "model_name": "HTMLModel",
          "model_module_version": "1.5.0",
          "state": {
            "_view_name": "HTMLView",
            "style": "IPY_MODEL_3d50b2b96ccd41328bbd28fd434a5e9a",
            "_dom_classes": [],
            "description": "",
            "_model_name": "HTMLModel",
            "placeholder": "​",
            "_view_module": "@jupyter-widgets/controls",
            "_model_module_version": "1.5.0",
            "value": "Dl Size...: 100%",
            "_view_count": null,
            "_view_module_version": "1.5.0",
            "description_tooltip": null,
            "_model_module": "@jupyter-widgets/controls",
            "layout": "IPY_MODEL_ec2bad81429c4a42a4f9bcfdbfb034d4"
          }
        },
        "d2b91bc498864b18a546fd39ae89c850": {
          "model_module": "@jupyter-widgets/controls",
          "model_name": "FloatProgressModel",
          "model_module_version": "1.5.0",
          "state": {
            "_view_name": "ProgressView",
            "style": "IPY_MODEL_76d7d529674342a29cf61223c20e091c",
            "_dom_classes": [],
            "description": "",
            "_model_name": "FloatProgressModel",
            "bar_style": "success",
            "max": 1,
            "_view_module": "@jupyter-widgets/controls",
            "_model_module_version": "1.5.0",
            "value": 1,
            "_view_count": null,
            "_view_module_version": "1.5.0",
            "orientation": "horizontal",
            "min": 0,
            "description_tooltip": null,
            "_model_module": "@jupyter-widgets/controls",
            "layout": "IPY_MODEL_6dd22ea9d90b4de6ad0fe89d7df6d9ee"
          }
        },
        "c6fba0e18b964565b77bd427fd6027fe": {
          "model_module": "@jupyter-widgets/controls",
          "model_name": "HTMLModel",
          "model_module_version": "1.5.0",
          "state": {
            "_view_name": "HTMLView",
            "style": "IPY_MODEL_3f545cc03cda49b692ed64dfb0b88600",
            "_dom_classes": [],
            "description": "",
            "_model_name": "HTMLModel",
            "placeholder": "​",
            "_view_module": "@jupyter-widgets/controls",
            "_model_module_version": "1.5.0",
            "value": " 152/152 [00:03&lt;00:00, 48.35 MiB/s]",
            "_view_count": null,
            "_view_module_version": "1.5.0",
            "description_tooltip": null,
            "_model_module": "@jupyter-widgets/controls",
            "layout": "IPY_MODEL_90674a69be954093a7e57fe6e8fa19ff"
          }
        },
        "3d50b2b96ccd41328bbd28fd434a5e9a": {
          "model_module": "@jupyter-widgets/controls",
          "model_name": "DescriptionStyleModel",
          "model_module_version": "1.5.0",
          "state": {
            "_view_name": "StyleView",
            "_model_name": "DescriptionStyleModel",
            "description_width": "",
            "_view_module": "@jupyter-widgets/base",
            "_model_module_version": "1.5.0",
            "_view_count": null,
            "_view_module_version": "1.2.0",
            "_model_module": "@jupyter-widgets/controls"
          }
        },
        "ec2bad81429c4a42a4f9bcfdbfb034d4": {
          "model_module": "@jupyter-widgets/base",
          "model_name": "LayoutModel",
          "model_module_version": "1.2.0",
          "state": {
            "_view_name": "LayoutView",
            "grid_template_rows": null,
            "right": null,
            "justify_content": null,
            "_view_module": "@jupyter-widgets/base",
            "overflow": null,
            "_model_module_version": "1.2.0",
            "_view_count": null,
            "flex_flow": null,
            "width": null,
            "min_width": null,
            "border": null,
            "align_items": null,
            "bottom": null,
            "_model_module": "@jupyter-widgets/base",
            "top": null,
            "grid_column": null,
            "overflow_y": null,
            "overflow_x": null,
            "grid_auto_flow": null,
            "grid_area": null,
            "grid_template_columns": null,
            "flex": null,
            "_model_name": "LayoutModel",
            "justify_items": null,
            "grid_row": null,
            "max_height": null,
            "align_content": null,
            "visibility": null,
            "align_self": null,
            "height": null,
            "min_height": null,
            "padding": null,
            "grid_auto_rows": null,
            "grid_gap": null,
            "max_width": null,
            "order": null,
            "_view_module_version": "1.2.0",
            "grid_template_areas": null,
            "object_position": null,
            "object_fit": null,
            "grid_auto_columns": null,
            "margin": null,
            "display": null,
            "left": null
          }
        },
        "76d7d529674342a29cf61223c20e091c": {
          "model_module": "@jupyter-widgets/controls",
          "model_name": "ProgressStyleModel",
          "model_module_version": "1.5.0",
          "state": {
            "_view_name": "StyleView",
            "_model_name": "ProgressStyleModel",
            "description_width": "",
            "_view_module": "@jupyter-widgets/base",
            "_model_module_version": "1.5.0",
            "_view_count": null,
            "_view_module_version": "1.2.0",
            "bar_color": null,
            "_model_module": "@jupyter-widgets/controls"
          }
        },
        "6dd22ea9d90b4de6ad0fe89d7df6d9ee": {
          "model_module": "@jupyter-widgets/base",
          "model_name": "LayoutModel",
          "model_module_version": "1.2.0",
          "state": {
            "_view_name": "LayoutView",
            "grid_template_rows": null,
            "right": null,
            "justify_content": null,
            "_view_module": "@jupyter-widgets/base",
            "overflow": null,
            "_model_module_version": "1.2.0",
            "_view_count": null,
            "flex_flow": null,
            "width": "20px",
            "min_width": null,
            "border": null,
            "align_items": null,
            "bottom": null,
            "_model_module": "@jupyter-widgets/base",
            "top": null,
            "grid_column": null,
            "overflow_y": null,
            "overflow_x": null,
            "grid_auto_flow": null,
            "grid_area": null,
            "grid_template_columns": null,
            "flex": null,
            "_model_name": "LayoutModel",
            "justify_items": null,
            "grid_row": null,
            "max_height": null,
            "align_content": null,
            "visibility": null,
            "align_self": null,
            "height": null,
            "min_height": null,
            "padding": null,
            "grid_auto_rows": null,
            "grid_gap": null,
            "max_width": null,
            "order": null,
            "_view_module_version": "1.2.0",
            "grid_template_areas": null,
            "object_position": null,
            "object_fit": null,
            "grid_auto_columns": null,
            "margin": null,
            "display": null,
            "left": null
          }
        },
        "3f545cc03cda49b692ed64dfb0b88600": {
          "model_module": "@jupyter-widgets/controls",
          "model_name": "DescriptionStyleModel",
          "model_module_version": "1.5.0",
          "state": {
            "_view_name": "StyleView",
            "_model_name": "DescriptionStyleModel",
            "description_width": "",
            "_view_module": "@jupyter-widgets/base",
            "_model_module_version": "1.5.0",
            "_view_count": null,
            "_view_module_version": "1.2.0",
            "_model_module": "@jupyter-widgets/controls"
          }
        },
        "90674a69be954093a7e57fe6e8fa19ff": {
          "model_module": "@jupyter-widgets/base",
          "model_name": "LayoutModel",
          "model_module_version": "1.2.0",
          "state": {
            "_view_name": "LayoutView",
            "grid_template_rows": null,
            "right": null,
            "justify_content": null,
            "_view_module": "@jupyter-widgets/base",
            "overflow": null,
            "_model_module_version": "1.2.0",
            "_view_count": null,
            "flex_flow": null,
            "width": null,
            "min_width": null,
            "border": null,
            "align_items": null,
            "bottom": null,
            "_model_module": "@jupyter-widgets/base",
            "top": null,
            "grid_column": null,
            "overflow_y": null,
            "overflow_x": null,
            "grid_auto_flow": null,
            "grid_area": null,
            "grid_template_columns": null,
            "flex": null,
            "_model_name": "LayoutModel",
            "justify_items": null,
            "grid_row": null,
            "max_height": null,
            "align_content": null,
            "visibility": null,
            "align_self": null,
            "height": null,
            "min_height": null,
            "padding": null,
            "grid_auto_rows": null,
            "grid_gap": null,
            "max_width": null,
            "order": null,
            "_view_module_version": "1.2.0",
            "grid_template_areas": null,
            "object_position": null,
            "object_fit": null,
            "grid_auto_columns": null,
            "margin": null,
            "display": null,
            "left": null
          }
        }
      }
    }
  },
  "cells": [
    {
      "cell_type": "markdown",
      "metadata": {
        "id": "view-in-github",
        "colab_type": "text"
      },
      "source": [
        "<a href=\"https://colab.research.google.com/github/visith1577/tensorflow_advanced/blob/main/autograph_horse_OR_human.ipynb\" target=\"_parent\"><img src=\"https://colab.research.google.com/assets/colab-badge.svg\" alt=\"Open In Colab\"/></a>"
      ]
    },
    {
      "cell_type": "code",
      "metadata": {
        "id": "bIRwlFihP80j"
      },
      "source": [
        "import tensorflow as tf\n",
        "import tensorflow_datasets as tfds\n",
        "import tensorflow_hub as hub\n",
        "import matplotlib.pyplot as plt\n",
        "\n",
        "\n",
        "from __future__ import absolute_import, division, print_function, unicode_literals\n",
        "import numpy as np"
      ],
      "execution_count": 1,
      "outputs": []
    },
    {
      "cell_type": "code",
      "metadata": {
        "colab": {
          "base_uri": "https://localhost:8080/",
          "height": 246,
          "referenced_widgets": [
            "464af57f91ee4c4abe365381468e8c83",
            "ef55850a949d40bdb1fe76c75c86814a",
            "ba51a2cbda34444080119c290717a0a8",
            "c5278488485c4519b494492ab96d69e6",
            "2e1fab00530846d9affd43a938b02abc",
            "3105348260954c1db56c1eb36dc3d5ea",
            "0b7b23bcd5bd4cbaac68c9e40f6f158a",
            "8c9e94d97eb04c6295b5e15cc8bdad96",
            "65238225c1504a918ac0509ce001997e",
            "01d1d94e66ef449ca68852c90a2704d1",
            "7698974184b24003967a864f709ccdc9",
            "5fd94b6f3bc14f09aec243ccf09b52db",
            "06a4b5d0726d49139d2a24dac3004944",
            "8c3136f7a5dc49ea8768347ab02e58f0",
            "d2b91bc498864b18a546fd39ae89c850",
            "c6fba0e18b964565b77bd427fd6027fe",
            "3d50b2b96ccd41328bbd28fd434a5e9a",
            "ec2bad81429c4a42a4f9bcfdbfb034d4",
            "76d7d529674342a29cf61223c20e091c",
            "6dd22ea9d90b4de6ad0fe89d7df6d9ee",
            "3f545cc03cda49b692ed64dfb0b88600",
            "90674a69be954093a7e57fe6e8fa19ff"
          ]
        },
        "id": "fWprJEYRQMD_",
        "outputId": "ea47258e-5875-41c7-d197-7ac8c6d07d8a"
      },
      "source": [
        "splits, info = tfds.load('horses_or_humans', as_supervised=True, with_info=True, split=['train[:80%]', 'train[80%:]', 'test'], data_dir='./data', download=True)\n",
        "\n",
        "(train_examples, validation_examples, test_examples) = splits\n",
        "\n",
        "num_examples = info.splits['train'].num_examples\n",
        "num_classes = info.features['label'].num_classes"
      ],
      "execution_count": 2,
      "outputs": [
        {
          "output_type": "stream",
          "name": "stdout",
          "text": [
            "\u001b[1mDownloading and preparing dataset horses_or_humans/3.0.0 (download: 153.59 MiB, generated: Unknown size, total: 153.59 MiB) to ./data/horses_or_humans/3.0.0...\u001b[0m\n"
          ]
        },
        {
          "output_type": "display_data",
          "data": {
            "application/vnd.jupyter.widget-view+json": {
              "model_id": "464af57f91ee4c4abe365381468e8c83",
              "version_minor": 0,
              "version_major": 2
            },
            "text/plain": [
              "Dl Completed...: 0 url [00:00, ? url/s]"
            ]
          },
          "metadata": {}
        },
        {
          "output_type": "display_data",
          "data": {
            "application/vnd.jupyter.widget-view+json": {
              "model_id": "5fd94b6f3bc14f09aec243ccf09b52db",
              "version_minor": 0,
              "version_major": 2
            },
            "text/plain": [
              "Dl Size...: 0 MiB [00:00, ? MiB/s]"
            ]
          },
          "metadata": {}
        },
        {
          "output_type": "stream",
          "name": "stdout",
          "text": [
            "\n",
            "\n"
          ]
        },
        {
          "output_type": "display_data",
          "data": {
            "application/vnd.jupyter.widget-view+json": {
              "model_id": "918a6211dace4e339c8890d405d6afcd",
              "version_minor": 0,
              "version_major": 2
            },
            "text/plain": [
              "0 examples [00:00, ? examples/s]"
            ]
          },
          "metadata": {}
        },
        {
          "output_type": "stream",
          "name": "stdout",
          "text": [
            "Shuffling and writing examples to ./data/horses_or_humans/3.0.0.incompleteTSZJEG/horses_or_humans-train.tfrecord\n"
          ]
        },
        {
          "output_type": "display_data",
          "data": {
            "application/vnd.jupyter.widget-view+json": {
              "model_id": "220e59cc4b3c449a8bf8cf498fad546a",
              "version_minor": 0,
              "version_major": 2
            },
            "text/plain": [
              "  0%|          | 0/1027 [00:00<?, ? examples/s]"
            ]
          },
          "metadata": {}
        },
        {
          "output_type": "display_data",
          "data": {
            "application/vnd.jupyter.widget-view+json": {
              "model_id": "5fc6600696f74eec994f1ac9b8c314f9",
              "version_minor": 0,
              "version_major": 2
            },
            "text/plain": [
              "0 examples [00:00, ? examples/s]"
            ]
          },
          "metadata": {}
        },
        {
          "output_type": "stream",
          "name": "stdout",
          "text": [
            "Shuffling and writing examples to ./data/horses_or_humans/3.0.0.incompleteTSZJEG/horses_or_humans-test.tfrecord\n"
          ]
        },
        {
          "output_type": "display_data",
          "data": {
            "application/vnd.jupyter.widget-view+json": {
              "model_id": "e23fc9a1bf1f4e7d9afaee363754a9bc",
              "version_minor": 0,
              "version_major": 2
            },
            "text/plain": [
              "  0%|          | 0/256 [00:00<?, ? examples/s]"
            ]
          },
          "metadata": {}
        },
        {
          "output_type": "stream",
          "name": "stdout",
          "text": [
            "\u001b[1mDataset horses_or_humans downloaded and prepared to ./data/horses_or_humans/3.0.0. Subsequent calls will reuse this data.\u001b[0m\n"
          ]
        }
      ]
    },
    {
      "cell_type": "code",
      "metadata": {
        "id": "pP5WTwhDVKX_"
      },
      "source": [
        "BATCH_SIZE = 64\n",
        "IMAGE_SIZE = 224"
      ],
      "execution_count": 3,
      "outputs": []
    },
    {
      "cell_type": "code",
      "metadata": {
        "id": "YC5--hCvVYlg"
      },
      "source": [
        "@tf.function\n",
        "def map_fn(img, label):\n",
        "  image_height=224\n",
        "  image_width=224\n",
        "\n",
        "  img=tf.image.resize(img, (image_height, image_width))\n",
        "  img /= 255.0\n",
        "  return img, label"
      ],
      "execution_count": 6,
      "outputs": []
    },
    {
      "cell_type": "code",
      "metadata": {
        "colab": {
          "base_uri": "https://localhost:8080/"
        },
        "id": "X_Rc9yGLV0Ju",
        "outputId": "5974065b-615e-410d-d015-26e5cc0cf85f"
      },
      "source": [
        "\n",
        "test_image, test_label = list(train_examples)[0]\n",
        "\n",
        "test_result = map_fn(test_image, test_label)\n",
        "\n",
        "print(test_result[0].shape)\n",
        "print(test_result[1].shape)\n",
        "\n",
        "del test_image, test_label, test_result"
      ],
      "execution_count": 7,
      "outputs": [
        {
          "output_type": "stream",
          "name": "stdout",
          "text": [
            "(224, 224, 3)\n",
            "()\n"
          ]
        }
      ]
    },
    {
      "cell_type": "code",
      "metadata": {
        "id": "bwr7gvnhV4-3"
      },
      "source": [
        "def prepare_dataset(train_examples, validation_examples, test_examples, num_examples, map_fn, batch_size):\n",
        "    \n",
        "    train_ds = train_examples.map(map_fn).shuffle(buffer_size = num_examples).batch(batch_size) \n",
        "    \n",
        "    valid_ds = validation_examples.map(map_fn).batch(batch_size)\n",
        "    test_ds = test_examples.map(map_fn).batch(batch_size)\n",
        "    \n",
        "    return train_ds, valid_ds, test_ds"
      ],
      "execution_count": 8,
      "outputs": []
    },
    {
      "cell_type": "code",
      "metadata": {
        "id": "4HxSgCG6aLUH"
      },
      "source": [
        "train_ds, valid_ds, test_ds = prepare_dataset(train_examples, validation_examples, test_examples, num_examples, map_fn, BATCH_SIZE)"
      ],
      "execution_count": 9,
      "outputs": []
    },
    {
      "cell_type": "code",
      "metadata": {
        "colab": {
          "base_uri": "https://localhost:8080/"
        },
        "id": "R2biVfoIaOdB",
        "outputId": "414b8539-5821-4ea0-95dd-64a0405c2eb5"
      },
      "source": [
        "MODULE_HANDLE = 'https://tfhub.dev/tensorflow/resnet_50/classification/1'\n",
        "model = tf.keras.Sequential([\n",
        "    hub.KerasLayer(MODULE_HANDLE, input_shape=(IMAGE_SIZE, IMAGE_SIZE, 3)),\n",
        "    tf.keras.layers.Dense(num_classes, activation='softmax')\n",
        "])\n",
        "model.summary()"
      ],
      "execution_count": 12,
      "outputs": [
        {
          "output_type": "stream",
          "name": "stdout",
          "text": [
            "Model: \"sequential\"\n",
            "_________________________________________________________________\n",
            "Layer (type)                 Output Shape              Param #   \n",
            "=================================================================\n",
            "keras_layer (KerasLayer)     (None, 1001)              25612201  \n",
            "_________________________________________________________________\n",
            "dense (Dense)                (None, 2)                 2004      \n",
            "=================================================================\n",
            "Total params: 25,614,205\n",
            "Trainable params: 2,004\n",
            "Non-trainable params: 25,612,201\n",
            "_________________________________________________________________\n"
          ]
        }
      ]
    },
    {
      "cell_type": "code",
      "metadata": {
        "id": "1RY6ksVGaTCJ"
      },
      "source": [
        "def set_adam_optimizer():\n",
        "    \n",
        "    optimizer = tf.keras.optimizers.Adam() \n",
        "    \n",
        "    return optimizer"
      ],
      "execution_count": 11,
      "outputs": []
    },
    {
      "cell_type": "code",
      "metadata": {
        "id": "mq-0pT9FajrL"
      },
      "source": [
        "def set_sparse_cat_crossentropy_loss():\n",
        "    \n",
        "    train_loss = tf.keras.losses.SparseCategoricalCrossentropy()  \n",
        "    val_loss = tf.keras.losses.SparseCategoricalCrossentropy() \n",
        "   \n",
        "    return train_loss, val_loss"
      ],
      "execution_count": 13,
      "outputs": []
    },
    {
      "cell_type": "code",
      "metadata": {
        "id": "A_fTiJOicGGu"
      },
      "source": [
        "def set_sparse_cat_crossentropy_accuracy():\n",
        "\n",
        "    train_accuracy = tf.keras.metrics.SparseCategoricalAccuracy() \n",
        "    val_accuracy = tf.keras.metrics.SparseCategoricalAccuracy() \n",
        "    \n",
        "    return train_accuracy, val_accuracy"
      ],
      "execution_count": 15,
      "outputs": []
    },
    {
      "cell_type": "code",
      "metadata": {
        "id": "iW_BYPR_b6vY"
      },
      "source": [
        "optimizer = set_adam_optimizer()\n",
        "train_loss, val_loss = set_sparse_cat_crossentropy_loss()\n",
        "train_accuracy, val_accuracy = set_sparse_cat_crossentropy_accuracy()"
      ],
      "execution_count": 16,
      "outputs": []
    },
    {
      "cell_type": "code",
      "metadata": {
        "colab": {
          "base_uri": "https://localhost:8080/"
        },
        "id": "JGlJZcVib-2m",
        "outputId": "b80a5546-14d4-411a-9807-95944e92f11c"
      },
      "source": [
        "device = '/gpu:0' if tf.test.is_gpu_available() else '/cpu:0'\n",
        "EPOCHS = 2\n",
        "\n",
        "# Custom training step\n",
        "def train_one_step(model, optimizer, x, y, train_loss, train_accuracy):\n",
        "    '''\n",
        "    Trains on a batch of images for one step.\n",
        "    \n",
        "    Args:\n",
        "        model (keras Model) -- image classifier\n",
        "        optimizer (keras Optimizer) -- optimizer to use during training\n",
        "        x (Tensor) -- training images\n",
        "        y (Tensor) -- training labels\n",
        "        train_loss (keras Loss) -- loss object for training\n",
        "        train_accuracy (keras Metric) -- accuracy metric for training\n",
        "    '''\n",
        "    with tf.GradientTape() as tape:\n",
        "    \n",
        "        predictions = model(x) \n",
        "        \n",
        "        loss = train_loss(y, predictions)\n",
        "\n",
        "    grads = tape.gradient(loss, model.trainable_variables) \n",
        "    \n",
        "    optimizer.apply_gradients(zip(grads, model.trainable_variables)) \n",
        "\n",
        "    train_accuracy(y, predictions)\n",
        "    \n",
        "    return loss"
      ],
      "execution_count": 17,
      "outputs": [
        {
          "output_type": "stream",
          "name": "stdout",
          "text": [
            "WARNING:tensorflow:From <ipython-input-17-bebef432a957>:1: is_gpu_available (from tensorflow.python.framework.test_util) is deprecated and will be removed in a future version.\n",
            "Instructions for updating:\n",
            "Use `tf.config.list_physical_devices('GPU')` instead.\n"
          ]
        },
        {
          "output_type": "stream",
          "name": "stderr",
          "text": [
            "WARNING:tensorflow:From <ipython-input-17-bebef432a957>:1: is_gpu_available (from tensorflow.python.framework.test_util) is deprecated and will be removed in a future version.\n",
            "Instructions for updating:\n",
            "Use `tf.config.list_physical_devices('GPU')` instead.\n"
          ]
        }
      ]
    },
    {
      "cell_type": "code",
      "metadata": {
        "colab": {
          "base_uri": "https://localhost:8080/"
        },
        "id": "pxx--LJxcYW7",
        "outputId": "831e450b-4f46-49f4-bc91-5d97ddb96d16"
      },
      "source": [
        "def base_model():\n",
        "    inputs = tf.keras.layers.Input(shape=(2))\n",
        "    x = tf.keras.layers.Dense(64, activation='relu')(inputs)\n",
        "    outputs = tf.keras.layers.Dense(1, activation='sigmoid')(x)\n",
        "    model = tf.keras.Model(inputs=inputs, outputs=outputs)\n",
        "    return model\n",
        "\n",
        "test_model = base_model()\n",
        "\n",
        "test_optimizer = set_adam_optimizer()\n",
        "test_image = tf.ones((2,2))\n",
        "test_label = tf.ones((1,))\n",
        "test_train_loss, _ = set_sparse_cat_crossentropy_loss()\n",
        "test_train_accuracy, _ = set_sparse_cat_crossentropy_accuracy()\n",
        "\n",
        "test_result = train_one_step(test_model, test_optimizer, test_image, test_label, test_train_loss, test_train_accuracy)\n",
        "print(test_result)\n",
        "\n",
        "del test_result, test_model, test_optimizer, test_image, test_label, test_train_loss, test_train_accuracy"
      ],
      "execution_count": 18,
      "outputs": [
        {
          "output_type": "stream",
          "name": "stdout",
          "text": [
            "tf.Tensor(0.6931472, shape=(), dtype=float32)\n"
          ]
        }
      ]
    },
    {
      "cell_type": "code",
      "metadata": {
        "id": "Ese-GJgKccCc"
      },
      "source": [
        "\n",
        "# Decorate this function with tf.function to enable autograph on the training loop\n",
        "@tf.function\n",
        "def train(model, optimizer, epochs, device, train_ds, train_loss, train_accuracy, valid_ds, val_loss, val_accuracy):\n",
        "    '''\n",
        "    Performs the entire training loop. Prints the loss and accuracy per step and epoch.\n",
        "    \n",
        "    Args:\n",
        "        model (keras Model) -- image classifier\n",
        "        optimizer (keras Optimizer) -- optimizer to use during training\n",
        "        epochs (int) -- number of epochs\n",
        "        train_ds (tf Dataset) -- the train set containing image-label pairs\n",
        "        train_loss (keras Loss) -- loss function for training\n",
        "        train_accuracy (keras Metric) -- accuracy metric for training\n",
        "        valid_ds (Tensor) -- the val set containing image-label pairs\n",
        "        val_loss (keras Loss) -- loss object for validation\n",
        "        val_accuracy (keras Metric) -- accuracy metric for validation\n",
        "    '''\n",
        "    step = 0\n",
        "    loss = 0.0\n",
        "    for epoch in range(epochs):\n",
        "        for x, y in train_ds:\n",
        "            # training step number increments at each iteration\n",
        "            step += 1\n",
        "            with tf.device(device_name=device):\n",
        "                ### START CODE HERE ###\n",
        "                # Run one training step by passing appropriate model parameters\n",
        "                # required by the function and finally get the loss to report the results\n",
        "                loss = train_one_step(model, optimizer, x, y, train_loss, train_accuracy)\n",
        "                ### END CODE HERE ###\n",
        "            # Use tf.print to report your results.\n",
        "            # Print the training step number, loss and accuracy\n",
        "            tf.print('Step', step, \n",
        "                   ': train loss', loss, \n",
        "                   '; train accuracy', train_accuracy.result())\n",
        "\n",
        "        with tf.device(device_name=device):\n",
        "            for x, y in valid_ds:\n",
        "                # Call the model on the batches of inputs x and get the predictions\n",
        "                y_pred = model(x)\n",
        "                loss = val_loss(y, y_pred)\n",
        "                val_accuracy(y, y_pred)\n",
        "        \n",
        "        # Print the validation loss and accuracy\n",
        "        ### START CODE HERE ###\n",
        "        tf.print('val loss', loss, '; val accuracy', val_accuracy.result())\n",
        "        ### END CODE HERE ###"
      ],
      "execution_count": 19,
      "outputs": []
    },
    {
      "cell_type": "code",
      "metadata": {
        "colab": {
          "base_uri": "https://localhost:8080/"
        },
        "id": "st7-ICW7cs1f",
        "outputId": "ba4b5f07-5c0e-4e0b-c5cc-d35609213722"
      },
      "source": [
        "train(model, optimizer, EPOCHS, device, train_ds, train_loss, train_accuracy, valid_ds, val_loss, val_accuracy)"
      ],
      "execution_count": null,
      "outputs": [
        {
          "output_type": "stream",
          "name": "stdout",
          "text": [
            "Step 1 : train loss 0.687515736 ; train accuracy 0.6875\n",
            "Step 2 : train loss 0.688142 ; train accuracy 0.6484375\n",
            "Step 3 : train loss 0.686270535 ; train accuracy 0.677083313\n",
            "Step 4 : train loss 0.684403181 ; train accuracy 0.69140625\n",
            "Step 5 : train loss 0.688009858 ; train accuracy 0.68125\n",
            "Step 6 : train loss 0.686363578 ; train accuracy 0.677083313\n",
            "Step 7 : train loss 0.679627419 ; train accuracy 0.694196403\n",
            "Step 8 : train loss 0.68272078 ; train accuracy 0.705078125\n",
            "Step 9 : train loss 0.682456255 ; train accuracy 0.704861104\n",
            "Step 10 : train loss 0.678223908 ; train accuracy 0.715625\n",
            "Step 11 : train loss 0.678811133 ; train accuracy 0.727272749\n",
            "Step 12 : train loss 0.677513242 ; train accuracy 0.735677063\n",
            "Step 13 : train loss 0.678927481 ; train accuracy 0.7408759\n",
            "val loss 0.683853567 ; val accuracy 0.697560966\n",
            "Step 14 : train loss 0.679097414 ; train accuracy 0.740406334\n",
            "Step 15 : train loss 0.676322937 ; train accuracy 0.747368395\n",
            "Step 16 : train loss 0.677703619 ; train accuracy 0.747534513\n",
            "Step 17 : train loss 0.674955487 ; train accuracy 0.753246725\n",
            "Step 18 : train loss 0.670217037 ; train accuracy 0.763572693\n",
            "Step 19 : train loss 0.674919 ; train accuracy 0.763681591\n",
            "Step 20 : train loss 0.672860742 ; train accuracy 0.765354335\n",
            "Step 21 : train loss 0.668302178 ; train accuracy 0.770614684\n",
            "Step 22 : train loss 0.67441988 ; train accuracy 0.771816909\n",
            "Step 23 : train loss 0.670528471 ; train accuracy 0.7742818\n",
            "Step 24 : train loss 0.673722267 ; train accuracy 0.772608101\n",
            "Step 25 : train loss 0.666129172 ; train accuracy 0.775471687\n",
            "Step 26 : train loss 0.66635412 ; train accuracy 0.776764\n"
          ]
        }
      ]
    },
    {
      "cell_type": "code",
      "metadata": {
        "id": "l5alwPEncwBY"
      },
      "source": [
        "test_imgs = []\n",
        "test_labels = []\n",
        "\n",
        "predictions = []\n",
        "with tf.device(device_name=device):\n",
        "    for images, labels in test_ds:\n",
        "        preds = model(images)\n",
        "        preds = preds.numpy()\n",
        "        predictions.extend(preds)\n",
        "\n",
        "        test_imgs.extend(images.numpy())\n",
        "        test_labels.extend(labels.numpy())"
      ],
      "execution_count": null,
      "outputs": []
    },
    {
      "cell_type": "code",
      "metadata": {
        "id": "WiN0gIXFeSUA"
      },
      "source": [
        "class_names = ['horse', 'human']\n",
        "\n",
        "def plot_image(i, predictions_array, true_label, img):\n",
        "    predictions_array, true_label, img = predictions_array[i], true_label[i], img[i]\n",
        "    plt.grid(False)\n",
        "    plt.xticks([])\n",
        "    plt.yticks([])\n",
        "\n",
        "    img = np.squeeze(img)\n",
        "\n",
        "    plt.imshow(img, cmap=plt.cm.binary)\n",
        "\n",
        "    predicted_label = np.argmax(predictions_array)\n",
        "    \n",
        "    # green-colored annotations will mark correct predictions. red otherwise.\n",
        "    if predicted_label == true_label:\n",
        "        color = 'green'\n",
        "    else:\n",
        "        color = 'red'\n",
        "    \n",
        "    # print the true label first\n",
        "    print(true_label)\n",
        "  \n",
        "    # show the image and overlay the prediction\n",
        "    plt.xlabel(\"{} {:2.0f}% ({})\".format(class_names[predicted_label],\n",
        "                                100*np.max(predictions_array),\n",
        "                                class_names[true_label]),\n",
        "                                color=color)"
      ],
      "execution_count": null,
      "outputs": []
    },
    {
      "cell_type": "code",
      "metadata": {
        "id": "4sgPw5eYeixb"
      },
      "source": [
        "index = 8 \n",
        "plt.figure(figsize=(6,3))\n",
        "plt.subplot(1,2,1)\n",
        "plot_image(index, predictions, test_labels, test_imgs)\n",
        "plt.show()"
      ],
      "execution_count": null,
      "outputs": []
    },
    {
      "cell_type": "code",
      "metadata": {
        "id": "aeeDZmhbely5"
      },
      "source": [
        ""
      ],
      "execution_count": null,
      "outputs": []
    }
  ]
}