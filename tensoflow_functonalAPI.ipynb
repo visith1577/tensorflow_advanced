{
  "nbformat": 4,
  "nbformat_minor": 0,
  "metadata": {
    "colab": {
      "name": "tensoflow_functonalAPI.ipynb",
      "provenance": [],
      "authorship_tag": "ABX9TyOztwIopMHPEYbzgXvTvr9k",
      "include_colab_link": true
    },
    "kernelspec": {
      "name": "python3",
      "display_name": "Python 3"
    },
    "language_info": {
      "name": "python"
    }
  },
  "cells": [
    {
      "cell_type": "markdown",
      "metadata": {
        "id": "view-in-github",
        "colab_type": "text"
      },
      "source": [
        "<a href=\"https://colab.research.google.com/github/visith1577/tensorflow_advanced/blob/main/tensoflow_functonalAPI.ipynb\" target=\"_parent\"><img src=\"https://colab.research.google.com/assets/colab-badge.svg\" alt=\"Open In Colab\"/></a>"
      ]
    },
    {
      "cell_type": "code",
      "metadata": {
        "id": "S7m3XdIqyf_5"
      },
      "source": [
        "import tensorflow as tf\n",
        "import numpy"
      ],
      "execution_count": 2,
      "outputs": []
    },
    {
      "cell_type": "code",
      "metadata": {
        "id": "_6Ctg6SwytXl"
      },
      "source": [
        "from tensorflow.keras.models import Model \n",
        "from tensorflow.keras.layers import Input, Flatten, Dense, Conv1D, MaxPooling2D "
      ],
      "execution_count": 14,
      "outputs": []
    },
    {
      "cell_type": "code",
      "metadata": {
        "colab": {
          "base_uri": "https://localhost:8080/"
        },
        "id": "JJyJkI1uywnm",
        "outputId": "accae11e-0ca5-4b6d-9772-c7b6113cf33c"
      },
      "source": [
        "mnist = tf.keras.datasets.mnist\n",
        "(train_images, train_labels), (test_images, test_labels) = mnist.load_data()"
      ],
      "execution_count": 4,
      "outputs": [
        {
          "output_type": "stream",
          "name": "stdout",
          "text": [
            "Downloading data from https://storage.googleapis.com/tensorflow/tf-keras-datasets/mnist.npz\n",
            "11493376/11490434 [==============================] - 0s 0us/step\n",
            "11501568/11490434 [==============================] - 0s 0us/step\n"
          ]
        }
      ]
    },
    {
      "cell_type": "code",
      "metadata": {
        "id": "i-jzONOL0t3P"
      },
      "source": [
        "train_images = train_images / 255.0\n",
        "test_images = test_images / 255.0"
      ],
      "execution_count": 5,
      "outputs": []
    },
    {
      "cell_type": "code",
      "metadata": {
        "colab": {
          "base_uri": "https://localhost:8080/"
        },
        "id": "0Ke7wv5r09Up",
        "outputId": "dcca8f6d-cc79-433d-f8df-1040dbcf3ac2"
      },
      "source": [
        "train_images.shape"
      ],
      "execution_count": 6,
      "outputs": [
        {
          "output_type": "execute_result",
          "data": {
            "text/plain": [
              "(60000, 28, 28)"
            ]
          },
          "metadata": {},
          "execution_count": 6
        }
      ]
    },
    {
      "cell_type": "code",
      "metadata": {
        "id": "6ynr2FYr0_qx"
      },
      "source": [
        "def model():\n",
        "  inputs = Input((28, 28))\n",
        "\n",
        "  conv1 = Conv1D(32, 3)(inputs)\n",
        "  flatten = Flatten()(conv1)\n",
        "  dense_1       = Dense(128, activation='relu')(flatten) \n",
        "  dense_2       = Dense(54, activation='relu')(dense_1) \n",
        "  output_layer  = Dense(10, activation='softmax')(dense_2)  \n",
        "\n",
        "  model = Model(inputs = inputs, outputs = output_layer)\n",
        "  return model"
      ],
      "execution_count": 17,
      "outputs": []
    },
    {
      "cell_type": "code",
      "metadata": {
        "id": "TFWrMiPk2Hd8"
      },
      "source": [
        "model = model()"
      ],
      "execution_count": 18,
      "outputs": []
    },
    {
      "cell_type": "code",
      "metadata": {
        "id": "QEVDS9Cs2J2e"
      },
      "source": [
        "model.compile(optimizer=tf.keras.optimizers.Nadam(), loss=\"sparse_categorical_crossentropy\", metrics=['accuracy'])"
      ],
      "execution_count": 19,
      "outputs": []
    },
    {
      "cell_type": "code",
      "metadata": {
        "colab": {
          "base_uri": "https://localhost:8080/"
        },
        "id": "w2yxHg5_2vqL",
        "outputId": "6fc45c9b-dbe2-455b-f815-c22da9da07e3"
      },
      "source": [
        "model.fit(train_images, train_labels, epochs=10, validation_data=(test_images, test_labels))"
      ],
      "execution_count": 20,
      "outputs": [
        {
          "output_type": "stream",
          "name": "stdout",
          "text": [
            "Epoch 1/10\n",
            "1875/1875 [==============================] - 9s 4ms/step - loss: 0.2145 - accuracy: 0.9372 - val_loss: 0.1172 - val_accuracy: 0.9670\n",
            "Epoch 2/10\n",
            "1875/1875 [==============================] - 8s 4ms/step - loss: 0.0987 - accuracy: 0.9699 - val_loss: 0.0926 - val_accuracy: 0.9692\n",
            "Epoch 3/10\n",
            "1875/1875 [==============================] - 8s 4ms/step - loss: 0.0727 - accuracy: 0.9773 - val_loss: 0.0931 - val_accuracy: 0.9696\n",
            "Epoch 4/10\n",
            "1875/1875 [==============================] - 8s 4ms/step - loss: 0.0597 - accuracy: 0.9814 - val_loss: 0.0889 - val_accuracy: 0.9744\n",
            "Epoch 5/10\n",
            "1875/1875 [==============================] - 8s 4ms/step - loss: 0.0488 - accuracy: 0.9840 - val_loss: 0.0920 - val_accuracy: 0.9746\n",
            "Epoch 6/10\n",
            "1875/1875 [==============================] - 8s 4ms/step - loss: 0.0407 - accuracy: 0.9867 - val_loss: 0.0901 - val_accuracy: 0.9742\n",
            "Epoch 7/10\n",
            "1875/1875 [==============================] - 8s 4ms/step - loss: 0.0358 - accuracy: 0.9882 - val_loss: 0.0848 - val_accuracy: 0.9756\n",
            "Epoch 8/10\n",
            "1875/1875 [==============================] - 8s 4ms/step - loss: 0.0313 - accuracy: 0.9896 - val_loss: 0.0938 - val_accuracy: 0.9762\n",
            "Epoch 9/10\n",
            "1875/1875 [==============================] - 8s 4ms/step - loss: 0.0274 - accuracy: 0.9912 - val_loss: 0.1092 - val_accuracy: 0.9741\n",
            "Epoch 10/10\n",
            "1875/1875 [==============================] - 8s 4ms/step - loss: 0.0253 - accuracy: 0.9916 - val_loss: 0.1091 - val_accuracy: 0.9762\n"
          ]
        },
        {
          "output_type": "execute_result",
          "data": {
            "text/plain": [
              "<keras.callbacks.History at 0x7f21fa226190>"
            ]
          },
          "metadata": {},
          "execution_count": 20
        }
      ]
    },
    {
      "cell_type": "code",
      "metadata": {
        "id": "k7KD7yoW27fO"
      },
      "source": [
        ""
      ],
      "execution_count": null,
      "outputs": []
    }
  ]
}