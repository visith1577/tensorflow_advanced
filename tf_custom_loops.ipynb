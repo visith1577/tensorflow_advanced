{
  "nbformat": 4,
  "nbformat_minor": 0,
  "metadata": {
    "colab": {
      "name": "tf_custom_loops.ipynb",
      "provenance": [],
      "authorship_tag": "ABX9TyOafFy/dnJxlPwsY5HrnTOm",
      "include_colab_link": true
    },
    "kernelspec": {
      "name": "python3",
      "display_name": "Python 3"
    },
    "language_info": {
      "name": "python"
    }
  },
  "cells": [
    {
      "cell_type": "markdown",
      "metadata": {
        "id": "view-in-github",
        "colab_type": "text"
      },
      "source": [
        "<a href=\"https://colab.research.google.com/github/visith1577/tensorflow_advanced/blob/main/tf_custom_loops.ipynb\" target=\"_parent\"><img src=\"https://colab.research.google.com/assets/colab-badge.svg\" alt=\"Open In Colab\"/></a>"
      ]
    },
    {
      "cell_type": "code",
      "metadata": {
        "id": "fcFPmUfI7SPd"
      },
      "source": [
        "import tensorflow as tf\n",
        "from tensorflow.keras.layers import Layer"
      ],
      "execution_count": 1,
      "outputs": []
    },
    {
      "cell_type": "code",
      "metadata": {
        "id": "RZmK_CPr7rMf"
      },
      "source": [
        "class Variable(Layer):\n",
        "  def __init__(self):\n",
        "    super().__init__()\n",
        "    self.one = tf.Variable(100)\n",
        "    self.two =[tf.Variable(x) for x in range(4)]  "
      ],
      "execution_count": 2,
      "outputs": []
    },
    {
      "cell_type": "code",
      "metadata": {
        "colab": {
          "base_uri": "https://localhost:8080/"
        },
        "id": "lIOsHKM09Zmy",
        "outputId": "d7d82d4e-74b2-444f-c7ba-5c19c0c57386"
      },
      "source": [
        "var = Variable() \n",
        "\n",
        "print([varss.numpy() for varss in var.variables])"
      ],
      "execution_count": 4,
      "outputs": [
        {
          "output_type": "stream",
          "name": "stdout",
          "text": [
            "[100, 0, 1, 2, 3]\n"
          ]
        }
      ]
    },
    {
      "cell_type": "code",
      "metadata": {
        "id": "UNZ3AJ-rBp_T"
      },
      "source": [
        "import numpy as np"
      ],
      "execution_count": 6,
      "outputs": []
    },
    {
      "cell_type": "code",
      "metadata": {
        "id": "gMFDAiJS9bxF"
      },
      "source": [
        "xs = np.array([-1.0, 0.0, 1.0, 2.0, 3.0, 4.0]) \n",
        "ys = np.array([-3.0, -1.0, 1.0, 3.0, 5.0, 7.0])  \n",
        "\n",
        "#trainable variables \n",
        "w = tf.Variable(np.random.random(), trainable=True) \n",
        "b = tf.Variable(np.random.random(), trainable=True) "
      ],
      "execution_count": 7,
      "outputs": []
    },
    {
      "cell_type": "code",
      "metadata": {
        "id": "WUHTkETUBoSC"
      },
      "source": [
        "def simple_loss(y_true, y_pred):\n",
        "  return tf.abs(y_true, y_pred)"
      ],
      "execution_count": 12,
      "outputs": []
    },
    {
      "cell_type": "code",
      "metadata": {
        "id": "6hIz-XQWB-Yt"
      },
      "source": [
        "learning_rate = 0.001"
      ],
      "execution_count": 9,
      "outputs": []
    },
    {
      "cell_type": "code",
      "metadata": {
        "colab": {
          "base_uri": "https://localhost:8080/"
        },
        "id": "sLKE89U9EyOj",
        "outputId": "20f9f92b-483f-47d3-d84a-eb246977d3e4"
      },
      "source": [
        "\n",
        "xs = np.array([-1.0, 0.0, 1.0, 2.0, 3.0, 4.0]) \n",
        "ys = np.array([-3.0, -1.0, 1.0, 3.0, 5.0, 7.0])  \n",
        "\n",
        "#trainable variables \n",
        "w = tf.Variable(np.random.random(), trainable=True) \n",
        "b = tf.Variable(np.random.random(), trainable=True) \n",
        "\n",
        "\n",
        "# loss \n",
        "def simple_loss(real_y, pred_y) : \n",
        "  return tf.abs(real_y - pred_y) \n",
        "\n",
        "learning_rate = 0.001\n",
        "\n",
        "def fit_data(x_real, y_real): \n",
        "\n",
        "  with tf.GradientTape(persistent=True) as tape: \n",
        "    pred_y = w * x_real + b  \n",
        "    reg_loss = simple_loss(y_real, pred_y) \n",
        "\n",
        "  w_gradient = tape.gradient(reg_loss, w) \n",
        "  b_gradient = tape.gradient(reg_loss, b) \n",
        "\n",
        "  w.assign_sub(w_gradient * learning_rate) \n",
        "  b.assign_sub(b_gradient * learning_rate) \n",
        "\n",
        "\n",
        "for _ in range(500) : \n",
        "  fit_data(xs, ys)  \n",
        "\n",
        "print(f\"w = {w.numpy()} + b = {b.numpy()}\") "
      ],
      "execution_count": 19,
      "outputs": [
        {
          "output_type": "stream",
          "name": "stdout",
          "text": [
            "w = 1.935805320739746 + b = -0.8087546825408936\n"
          ]
        }
      ]
    },
    {
      "cell_type": "code",
      "metadata": {
        "colab": {
          "base_uri": "https://localhost:8080/"
        },
        "id": "j_Hse5lNFKBY",
        "outputId": "06e39f28-e21a-4f53-f196-9cb2734de6a1"
      },
      "source": [
        "x = tf.Variable([1.0])  \n",
        "\n",
        "with tf.GradientTape() as tape : \n",
        "    grad = x * x \n",
        "\n",
        "\n",
        "print(tape.gradient(grad, x))"
      ],
      "execution_count": 21,
      "outputs": [
        {
          "output_type": "stream",
          "name": "stdout",
          "text": [
            "tf.Tensor([2.], shape=(1,), dtype=float32)\n"
          ]
        }
      ]
    },
    {
      "cell_type": "code",
      "metadata": {
        "id": "Z_2udjW3Fcoy"
      },
      "source": [
        "x = tf.ones((2, 2))"
      ],
      "execution_count": 22,
      "outputs": []
    },
    {
      "cell_type": "code",
      "metadata": {
        "colab": {
          "base_uri": "https://localhost:8080/"
        },
        "id": "QdRGCf34KogV",
        "outputId": "09675ca4-37be-40f8-d66a-0b98e07abef5"
      },
      "source": [
        "with tf.GradientTape()  as tape:\n",
        "  t = tape.watch(x)\n",
        "  print(t)\n",
        "  y = tf.reduce_sum(x)\n",
        "  z = tf.square(y)\n",
        "  print(t)\n",
        "dz_dx = tape.gradient(z, x)\n",
        "print(t)  "
      ],
      "execution_count": 26,
      "outputs": [
        {
          "output_type": "stream",
          "name": "stdout",
          "text": [
            "None\n",
            "None\n",
            "None\n"
          ]
        }
      ]
    },
    {
      "cell_type": "code",
      "metadata": {
        "colab": {
          "base_uri": "https://localhost:8080/"
        },
        "id": "HPoG9rGfK1aX",
        "outputId": "6554cc45-1f2d-4d5f-94de-77831fca05e4"
      },
      "source": [
        "x = tf.Variable(1.0)\n",
        "\n",
        "with tf.GradientTape() as tape_2:\n",
        "    with tf.GradientTape() as tape_1:\n",
        "        y = x * x * x\n",
        "    \n",
        "    # The first gradient calculation should occur at leaset\n",
        "    # within the outer with block\n",
        "    dy_dx = tape_1.gradient(y, x)\n",
        "d2y_dx2 = tape_2.gradient(dy_dx, x)\n",
        "\n",
        "print(dy_dx)\n",
        "print(d2y_dx2)"
      ],
      "execution_count": 27,
      "outputs": [
        {
          "output_type": "stream",
          "name": "stdout",
          "text": [
            "tf.Tensor(3.0, shape=(), dtype=float32)\n",
            "tf.Tensor(6.0, shape=(), dtype=float32)\n"
          ]
        }
      ]
    },
    {
      "cell_type": "code",
      "metadata": {
        "id": "OpBzQroRMJ_Y"
      },
      "source": [
        "class Model(object):\n",
        "  def __init__(self):\n",
        "    # Initialize the weights to `2.0` and the bias to `1.0`\n",
        "    # In practice, these should be initialized to random values (for example, with `tf.random.normal`)\n",
        "    self.w = tf.Variable(2.0)\n",
        "    self.b = tf.Variable(1.0)\n",
        "\n",
        "  def __call__(self, x):\n",
        "    return self.w * x + self.b\n",
        "\n",
        "model = Model()"
      ],
      "execution_count": 28,
      "outputs": []
    },
    {
      "cell_type": "code",
      "metadata": {
        "id": "lICGPChBMrEG"
      },
      "source": [
        "def loss(predicted_y, target_y):\n",
        "  return tf.reduce_mean(tf.square(predicted_y - target_y))"
      ],
      "execution_count": 29,
      "outputs": []
    },
    {
      "cell_type": "code",
      "metadata": {
        "id": "9lFcrQ9XMud3"
      },
      "source": [
        "TRUE_w = 3.0\n",
        "TRUE_b = 2.0\n",
        "NUM_EXAMPLES = 1000\n",
        "\n",
        "xs  = tf.random.normal(shape=[NUM_EXAMPLES])\n",
        "\n",
        "ys = (TRUE_w * xs) + TRUE_b"
      ],
      "execution_count": 30,
      "outputs": []
    },
    {
      "cell_type": "code",
      "metadata": {
        "id": "L0gpeqGpMw1c"
      },
      "source": [
        "\n",
        "def plot_data(inputs, outputs, predicted_outputs):\n",
        "  real = plt.scatter(inputs, outputs, c='b', marker='.')\n",
        "  predicted = plt.scatter(inputs, predicted_outputs, c='r', marker='+')\n",
        "  plt.legend((real,predicted), ('Real Data', 'Predicted Data'))\n",
        "  plt.show()"
      ],
      "execution_count": 31,
      "outputs": []
    },
    {
      "cell_type": "code",
      "metadata": {
        "id": "OFLVKWKMM4-V"
      },
      "source": [
        "import matplotlib.pyplot as plt"
      ],
      "execution_count": 33,
      "outputs": []
    },
    {
      "cell_type": "code",
      "metadata": {
        "colab": {
          "base_uri": "https://localhost:8080/",
          "height": 282
        },
        "id": "1yJNrISYMzol",
        "outputId": "52cfee30-c78e-4d5f-b3d6-979d2f689379"
      },
      "source": [
        "plot_data(xs, ys, model(xs))\n",
        "print('Current loss: %1.6f' % loss(model(xs), ys).numpy())"
      ],
      "execution_count": 34,
      "outputs": [
        {
          "output_type": "display_data",
          "data": {
            "image/png": "[encoded data removed]",
            "text/plain": [
              "<Figure size 432x288 with 1 Axes>"
            ]
          },
          "metadata": {
            "needs_background": "light"
          }
        },
        {
          "output_type": "stream",
          "name": "stdout",
          "text": [
            "Current loss: 1.919465\n"
          ]
        }
      ]
    },
    {
      "cell_type": "code",
      "metadata": {
        "id": "L02mwrFcM36e"
      },
      "source": [
        "def train(model, inputs, outputs, learning_rate):\n",
        "  with tf.GradientTape() as t:\n",
        "    current_loss = loss(model(inputs), outputs)\n",
        "  dw, db = t.gradient(current_loss, [model.w, model.b])\n",
        "  model.w.assign_sub(learning_rate * dw)\n",
        "  model.b.assign_sub(learning_rate * db)\n",
        "\n",
        "  return current_loss"
      ],
      "execution_count": 35,
      "outputs": []
    },
    {
      "cell_type": "code",
      "metadata": {
        "colab": {
          "base_uri": "https://localhost:8080/"
        },
        "id": "wDHZJjQCNI-a",
        "outputId": "b6581996-b26e-45b1-c127-7fbc17b7cf93"
      },
      "source": [
        "model = Model()\n",
        "\n",
        "# Collect the history of W-values and b-values to plot later\n",
        "list_w, list_b = [], []\n",
        "epochs = range(15)\n",
        "losses = []\n",
        "for epoch in epochs:\n",
        "  list_w.append(model.w.numpy())\n",
        "  list_b.append(model.b.numpy())\n",
        "  current_loss = train(model, xs, ys, learning_rate=0.1)\n",
        "  losses.append(current_loss)\n",
        "  print('Epoch %2d: w=%1.2f b=%1.2f, loss=%2.5f' %\n",
        "        (epoch, list_w[-1], list_b[-1], current_loss))"
      ],
      "execution_count": 36,
      "outputs": [
        {
          "output_type": "stream",
          "name": "stdout",
          "text": [
            "Epoch  0: w=2.00 b=1.00, loss=1.91947\n",
            "Epoch  1: w=2.18 b=1.20, loss=1.25214\n",
            "Epoch  2: w=2.33 b=1.36, loss=0.81723\n",
            "Epoch  3: w=2.45 b=1.49, loss=0.53364\n",
            "Epoch  4: w=2.55 b=1.59, loss=0.34864\n",
            "Epoch  5: w=2.64 b=1.67, loss=0.22789\n",
            "Epoch  6: w=2.70 b=1.74, loss=0.14904\n",
            "Epoch  7: w=2.76 b=1.79, loss=0.09752\n",
            "Epoch  8: w=2.80 b=1.83, loss=0.06384\n",
            "Epoch  9: w=2.84 b=1.87, loss=0.04181\n",
            "Epoch 10: w=2.87 b=1.89, loss=0.02740\n",
            "Epoch 11: w=2.89 b=1.92, loss=0.01797\n",
            "Epoch 12: w=2.91 b=1.93, loss=0.01179\n",
            "Epoch 13: w=2.93 b=1.95, loss=0.00774\n",
            "Epoch 14: w=2.94 b=1.96, loss=0.00508\n"
          ]
        }
      ]
    },
    {
      "cell_type": "code",
      "metadata": {
        "colab": {
          "base_uri": "https://localhost:8080/",
          "height": 265
        },
        "id": "YZ5cm6IjNPFE",
        "outputId": "f579b373-a3e8-4b1a-c58d-b693337f9e27"
      },
      "source": [
        "plt.plot(epochs, list_w, 'r',\n",
        "       epochs, list_b, 'b')\n",
        "plt.plot([TRUE_w] * len(epochs), 'r--',\n",
        "      [TRUE_b] * len(epochs), 'b--')\n",
        "plt.legend(['w', 'b', 'True w', 'True b'])\n",
        "plt.show()"
      ],
      "execution_count": 37,
      "outputs": [
        {
          "output_type": "display_data",
          "data": {
            "image/png": "[encoded data removed]",
            "text/plain": [
              "<Figure size 432x288 with 1 Axes>"
            ]
          },
          "metadata": {
            "needs_background": "light"
          }
        }
      ]
    },
    {
      "cell_type": "code",
      "metadata": {
        "colab": {
          "base_uri": "https://localhost:8080/",
          "height": 268
        },
        "id": "QKJusGcdNSId",
        "outputId": "a8a7bf79-0ce4-47ae-a9fb-7806d7b6b1c9"
      },
      "source": [
        "test_inputs  = tf.random.normal(shape=[NUM_EXAMPLES])\n",
        "test_outputs = test_inputs * TRUE_w + TRUE_b\n",
        "\n",
        "predicted_test_outputs = model(test_inputs)\n",
        "plot_data(test_inputs, test_outputs, predicted_test_outputs)"
      ],
      "execution_count": 38,
      "outputs": [
        {
          "output_type": "display_data",
          "data": {
            "image/png": "[encoded data removed]",
            "text/plain": [
              "<Figure size 432x288 with 1 Axes>"
            ]
          },
          "metadata": {
            "needs_background": "light"
          }
        }
      ]
    },
    {
      "cell_type": "code",
      "metadata": {
        "colab": {
          "base_uri": "https://localhost:8080/",
          "height": 282
        },
        "id": "Jh1OOoz9NZHR",
        "outputId": "6a1b3fc2-5eee-47f2-a9b0-e01d29324497"
      },
      "source": [
        "def plot_loss_for_weights(weights_list, losses):\n",
        "  for idx, weights in enumerate(weights_list):\n",
        "    plt.subplot(120 + idx + 1)\n",
        "    plt.plot(weights['values'], losses, 'r')\n",
        "    plt.plot(weights['values'], losses, 'bo')\n",
        "    plt.xlabel(weights['name'])\n",
        "    plt.ylabel('Loss')\n",
        "    \n",
        "    \n",
        "weights_list = [{ 'name' : \"w\",\n",
        "                  'values' : list_w\n",
        "                },\n",
        "                {\n",
        "                  'name' : \"b\",\n",
        "                  'values' : list_b\n",
        "                }]\n",
        "\n",
        "plot_loss_for_weights(weights_list, losses)"
      ],
      "execution_count": 39,
      "outputs": [
        {
          "output_type": "display_data",
          "data": {
            "image/png": "[encoded data removed]",
            "text/plain": [
              "<Figure size 432x288 with 2 Axes>"
            ]
          },
          "metadata": {
            "needs_background": "light"
          }
        }
      ]
    },
    {
      "cell_type": "code",
      "metadata": {
        "id": "uFqiH_h9Ncnl"
      },
      "source": [
        ""
      ],
      "execution_count": null,
      "outputs": []
    }
  ]
}