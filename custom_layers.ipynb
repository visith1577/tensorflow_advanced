{
  "nbformat": 4,
  "nbformat_minor": 0,
  "metadata": {
    "colab": {
      "name": "custom_layers.ipynb",
      "provenance": [],
      "authorship_tag": "ABX9TyOq2DWIbcSZ/u7ys5q9ttz2",
      "include_colab_link": true
    },
    "kernelspec": {
      "name": "python3",
      "display_name": "Python 3"
    },
    "language_info": {
      "name": "python"
    }
  },
  "cells": [
    {
      "cell_type": "markdown",
      "metadata": {
        "id": "view-in-github",
        "colab_type": "text"
      },
      "source": [
        "<a href=\"https://colab.research.google.com/github/visith1577/tensorflow_advanced/blob/main/custom_layers.ipynb\" target=\"_parent\"><img src=\"https://colab.research.google.com/assets/colab-badge.svg\" alt=\"Open In Colab\"/></a>"
      ]
    },
    {
      "cell_type": "code",
      "metadata": {
        "id": "YJTf5JNhirlp"
      },
      "source": [
        "import tensorflow as tf\n",
        "import tensorflow.keras.backend as K"
      ],
      "execution_count": 1,
      "outputs": []
    },
    {
      "cell_type": "code",
      "metadata": {
        "id": "I1nhmW9OyRtD"
      },
      "source": [
        "model = tf.keras.Sequential(\n",
        "    [\n",
        "     tf.keras.layers.Flatten(),\n",
        "     tf.keras.layers.Dense(128),\n",
        "     tf.keras.layers.Lambda(lambda x: tf.abs(x)),\n",
        "     tf.keras.layers.Dense(10, activation= 'softmax')\n",
        "    ]\n",
        ")"
      ],
      "execution_count": 2,
      "outputs": []
    },
    {
      "cell_type": "code",
      "metadata": {
        "id": "6QBmsRAvyvUV"
      },
      "source": [
        "def custom_relu(x):\n",
        "  return K.maximum(-0.1, x)"
      ],
      "execution_count": 4,
      "outputs": []
    },
    {
      "cell_type": "code",
      "metadata": {
        "id": "jBIe8bc0yxsr"
      },
      "source": [
        "model = tf.keras.models.Sequential([ \n",
        "    tf.keras.layers.Flatten(), \n",
        "    tf.keras.layers.Dense(128) ,\n",
        "    tf.keras.layers.Lambda(custom_relu) , \n",
        "    tf.keras.layers.Dense(10, activation='softmax')\n",
        "\n",
        "])"
      ],
      "execution_count": 5,
      "outputs": []
    },
    {
      "cell_type": "code",
      "metadata": {
        "id": "TVIgtt_PzEHO"
      },
      "source": [
        "from tensorflow.keras.layers import Layer"
      ],
      "execution_count": 6,
      "outputs": []
    },
    {
      "cell_type": "code",
      "metadata": {
        "id": "XOg9IokJzSW_"
      },
      "source": [
        "class MyDense(Layer) : \n",
        "    \n",
        "    def __init__(self, units = 32, activation = None) : \n",
        "        super().__init__()  \n",
        "        self.units = units   \n",
        "        self.activation = tf.keras.activations.get(activation) \n",
        "\n",
        "    def build(self, input_shape) : # create the state of the layer weights \n",
        "        \n",
        "        w_init = tf.random_normal_initializer() \n",
        "\n",
        "        self.w = tf.Variable(name = 'kernal', \n",
        "                    initial_value= w_init(shape = (input_shape[-1], self.units), \n",
        "                       dtype= 'float32') , trainable= True)  \n",
        "\n",
        "        b_init = tf.zeros_initializer() \n",
        "\n",
        "        self.b = tf.Variable(name = 'bias', \n",
        "                                initial_value= b_init(shape = (self.units,), \n",
        "                                 dtype= 'float32'), trainable= True)   \n",
        "        \n",
        "        super().build(input_shape) \n",
        "\n",
        "    def call(self, inputs) :   # defines the computation from inputs to outputs \n",
        "        return self.activation(tf.matmul(inputs, self.w) + self.b) \n",
        "        "
      ],
      "execution_count": 7,
      "outputs": []
    },
    {
      "cell_type": "code",
      "metadata": {
        "colab": {
          "base_uri": "https://localhost:8080/"
        },
        "id": "IB8xn8AJ1S4q",
        "outputId": "2f1fa1f9-797f-4c1b-cc09-354c778f7a0d"
      },
      "source": [
        "my_dense = MyDense(units= 1) \n",
        "\n",
        "x = tf.ones((1,1)) \n",
        "y = my_dense(x) \n",
        "\n",
        "print(my_dense.variables) "
      ],
      "execution_count": 8,
      "outputs": [
        {
          "output_type": "stream",
          "name": "stdout",
          "text": [
            "[<tf.Variable 'my_dense/kernal:0' shape=(1, 1) dtype=float32, numpy=array([[0.00579431]], dtype=float32)>, <tf.Variable 'my_dense/bias:0' shape=(1,) dtype=float32, numpy=array([0.], dtype=float32)>]\n"
          ]
        }
      ]
    },
    {
      "cell_type": "code",
      "metadata": {
        "colab": {
          "base_uri": "https://localhost:8080/"
        },
        "id": "Bg2GAFyF1Vt6",
        "outputId": "e49bf0a4-5b39-4e3b-9e8f-1e10632ada85"
      },
      "source": [
        "mnist = tf.keras.datasets.mnist\n",
        "\n",
        "(x_train, y_train),(x_test, y_test) = mnist.load_data()\n",
        "x_train, x_test = x_train / 255.0, x_test / 255.0\n",
        "\n",
        "model = tf.keras.models.Sequential([\n",
        "    tf.keras.layers.Flatten(input_shape=(28, 28)),\n",
        "    MyDense(128, activation='relu'),\n",
        "    tf.keras.layers.Dropout(0.2),\n",
        "    tf.keras.layers.Dense(10, activation='softmax')\n",
        "])\n",
        "\n",
        "model.compile(optimizer='adam',\n",
        "              loss='sparse_categorical_crossentropy',\n",
        "              metrics=['accuracy'])\n",
        "\n",
        "model.fit(x_train, y_train, epochs=5)\n",
        "model.evaluate(x_test, y_test)"
      ],
      "execution_count": 10,
      "outputs": [
        {
          "output_type": "stream",
          "name": "stdout",
          "text": [
            "Epoch 1/5\n",
            "1875/1875 [==============================] - 4s 2ms/step - loss: 0.2957 - accuracy: 0.9142\n",
            "Epoch 2/5\n",
            "1875/1875 [==============================] - 3s 2ms/step - loss: 0.1431 - accuracy: 0.9571\n",
            "Epoch 3/5\n",
            "1875/1875 [==============================] - 3s 2ms/step - loss: 0.1090 - accuracy: 0.9666\n",
            "Epoch 4/5\n",
            "1875/1875 [==============================] - 3s 2ms/step - loss: 0.0883 - accuracy: 0.9722\n",
            "Epoch 5/5\n",
            "1875/1875 [==============================] - 3s 2ms/step - loss: 0.0766 - accuracy: 0.9761\n",
            "313/313 [==============================] - 0s 1ms/step - loss: 0.0752 - accuracy: 0.9765\n"
          ]
        },
        {
          "output_type": "execute_result",
          "data": {
            "text/plain": [
              "[0.07521174103021622, 0.9764999747276306]"
            ]
          },
          "metadata": {},
          "execution_count": 10
        }
      ]
    },
    {
      "cell_type": "code",
      "metadata": {
        "colab": {
          "base_uri": "https://localhost:8080/"
        },
        "id": "Pnh3cMEG7I-i",
        "outputId": "b66ae6f6-208e-48df-dce2-357ba151f5a9"
      },
      "source": [
        "model.summary()"
      ],
      "execution_count": 11,
      "outputs": [
        {
          "output_type": "stream",
          "name": "stdout",
          "text": [
            "Model: \"sequential_2\"\n",
            "_________________________________________________________________\n",
            "Layer (type)                 Output Shape              Param #   \n",
            "=================================================================\n",
            "flatten_3 (Flatten)          (None, 784)               0         \n",
            "_________________________________________________________________\n",
            "my_dense_1 (MyDense)         (None, 128)               100480    \n",
            "_________________________________________________________________\n",
            "dropout (Dropout)            (None, 128)               0         \n",
            "_________________________________________________________________\n",
            "dense_4 (Dense)              (None, 10)                1290      \n",
            "=================================================================\n",
            "Total params: 101,770\n",
            "Trainable params: 101,770\n",
            "Non-trainable params: 0\n",
            "_________________________________________________________________\n"
          ]
        }
      ]
    },
    {
      "cell_type": "code",
      "metadata": {
        "id": "U7pZ_PVF7n9E"
      },
      "source": [
        ""
      ],
      "execution_count": null,
      "outputs": []
    }
  ]
}